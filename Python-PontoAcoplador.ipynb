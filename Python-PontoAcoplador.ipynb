{
 "cells": [
  {
   "cell_type": "code",
   "execution_count": null,
   "metadata": {},
   "outputs": [],
   "source": [
    "from sympy import *\n",
    "from sympy import diff as D\n",
    "\n",
    "t = symbols ('t')\n",
    "\n",
    "def SetupGlobalVars():\n",
    "    global M,U,Xₒ,Ẋₒ,Ẍₒ,u,v,sᵢ,xₒ,yₒ\n",
    "    M  = Matrix([[cos(sᵢ), -sin(sᵢ)],[sin(sᵢ), cos(sᵢ)]])\n",
    "    U  = Matrix([u,v])\n",
    "    Xₒ = Matrix([xₒ,yₒ])\n",
    "    Ẋₒ = Matrix([D(xₒ,t),D(yₒ,t)])\n",
    "    Ẍₒ = Matrix([D(xₒ,t,2),D(yₒ,t,2)])\n",
    "\n",
    "def P():\n",
    "    return Xₒ + M*U\n",
    "\n",
    "def Ṗ():\n",
    "    Ω = Matrix([[0, -1],[1,0]])\n",
    "    return Ẋₒ + D(sᵢ,t)*M*Ω*U\n",
    "\n",
    "def P̈():\n",
    "    Γ = Matrix([[D(sᵢ,t)**2, D(sᵢ,t,2)],[-D(sᵢ,t,2), D(sᵢ,t)**2]])\n",
    "    return Ẍₒ - M*Γ*U"
   ]
  },
  {
   "cell_type": "code",
   "execution_count": null,
   "metadata": {},
   "outputs": [],
   "source": [
    "a,b = symbols('a b')\n",
    "φ,x = Function ('varphi')(t), Function('x')(t)\n",
    "φₜ,xₜ = symbols('\\\\dot{\\\\varphi} \\\\dot{x}')\n",
    "φₜₜ,xₜₜ = symbols('\\\\ddot{\\\\varphi} \\\\ddot{x}')\n",
    "\n",
    "u  = b/2\n",
    "v  = -a\n",
    "sᵢ = pi-φ\n",
    "xₒ = x\n",
    "yₒ = 0\n",
    "\n",
    "SetupGlobalVars()\n",
    "display(P())\n",
    "display(Ṗ().subs([(D(φ,t),φₜ),(D(x,t),xₜ)]))\n",
    "display(P̈().subs([(D(x,t,2),xₜₜ),(D(φ,t,2),φₜₜ),(D(x,t),xₜ),(D(φ,t),φₜ)]))"
   ]
  },
  {
   "cell_type": "code",
   "execution_count": null,
   "metadata": {},
   "outputs": [],
   "source": [
    "a,b = symbols('a b')\n",
    "φ,θ = Function ('varphi')(t), Function('theta')(t)\n",
    "φₜ,θₜ = symbols('\\\\dot{\\\\varphi} \\\\dot{\\\\theta}')\n",
    "φₜₜ,θₜₜ = symbols('\\\\ddot{\\\\varphi} \\\\ddot{\\\\theta}')\n",
    "\n",
    "u  = b/2\n",
    "v  = a                            \n",
    "sᵢ = 2*pi-φ;                                 \n",
    "xₒ = a*cos(θ)\n",
    "yₒ = a*sin(θ);    \n",
    "\n",
    "SetupGlobalVars()\n",
    "display(P())\n",
    "display(Ṗ().subs([(D(φ,t),φₜ),(D(θ,t),θₜ)]))\n",
    "display(P̈().subs([(D(θ,t,2),θₜₜ),(D(φ,t,2),φₜₜ),(D(θ,t),θₜ),(D(φ,t),φₜ)]))"
   ]
  }
 ],
 "metadata": {
  "kernelspec": {
   "display_name": "Python 3",
   "language": "python",
   "name": "python3"
  },
  "language_info": {
   "codemirror_mode": {
    "name": "ipython",
    "version": 3
   },
   "file_extension": ".py",
   "mimetype": "text/x-python",
   "name": "python",
   "nbconvert_exporter": "python",
   "pygments_lexer": "ipython3",
   "version": "3.8.5"
  }
 },
 "nbformat": 4,
 "nbformat_minor": 2
}
